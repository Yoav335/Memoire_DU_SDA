{
 "cells": [
  {
   "cell_type": "markdown",
   "metadata": {
    "vscode": {
     "languageId": "ruby"
    }
   },
   "source": [
    "Colonnes disponibles : ['country', 'year', 'iso_code', 'population', 'gdp', 'cement_co2', 'cement_co2_per_capita', 'co2', 'co2_growth_abs', 'co2_growth_prct', 'co2_including_luc', 'co2_including_luc_growth_abs', 'co2_including_luc_growth_prct', 'co2_including_luc_per_capita', 'co2_including_luc_per_gdp', 'co2_including_luc_per_unit_energy', 'co2_per_capita', 'co2_per_gdp', 'co2_per_unit_energy', 'coal_co2', 'coal_co2_per_capita', 'consumption_co2', 'consumption_co2_per_capita', 'consumption_co2_per_gdp', 'cumulative_cement_co2', 'cumulative_co2', 'cumulative_co2_including_luc', 'cumulative_coal_co2', 'cumulative_flaring_co2', 'cumulative_gas_co2', 'cumulative_luc_co2', 'cumulative_oil_co2', 'cumulative_other_co2', 'energy_per_capita', 'energy_per_gdp', 'flaring_co2', 'flaring_co2_per_capita', 'gas_co2', 'gas_co2_per_capita', 'ghg_excluding_lucf_per_capita', 'ghg_per_capita', 'land_use_change_co2', 'land_use_change_co2_per_capita', 'methane', 'methane_per_capita', 'nitrous_oxide', 'nitrous_oxide_per_capita', 'oil_co2', 'oil_co2_per_capita', 'other_co2_per_capita', 'other_industry_co2', 'primary_energy_consumption', 'share_global_cement_co2', 'share_global_co2', 'share_global_co2_including_luc', 'share_global_coal_co2', 'share_global_cumulative_cement_co2', 'share_global_cumulative_co2', 'share_global_cumulative_co2_including_luc', 'share_global_cumulative_coal_co2', 'share_global_cumulative_flaring_co2', 'share_global_cumulative_gas_co2', 'share_global_cumulative_luc_co2', 'share_global_cumulative_oil_co2', 'share_global_cumulative_other_co2', 'share_global_flaring_co2', 'share_global_gas_co2', 'share_global_luc_co2', 'share_global_oil_co2', 'share_global_other_co2', 'share_of_temperature_change_from_ghg', 'temperature_change_from_ch4', 'temperature_change_from_co2', 'temperature_change_from_ghg', 'temperature_change_from_n2o', 'total_ghg', 'total_ghg_excluding_lucf', 'trade_co2', 'trade_co2_share']\n"
   ]
  },
  {
   "cell_type": "code",
   "execution_count": 32,
   "metadata": {},
   "outputs": [],
   "source": [
    "import pandas as pd\n",
    "import numpy as np\n",
    "import statsmodels.api as sm\n",
    "from statsmodels.tsa.stattools import adfuller, grangercausalitytests\n",
    "import matplotlib.pyplot as plt\n",
    "import seaborn as sns\n",
    "from statsmodels.stats.outliers_influence import variance_inflation_factor\n",
    "from statsmodels.stats.diagnostic import het_breuschpagan\n",
    "from scipy.stats import shapiro"
   ]
  },
  {
   "cell_type": "code",
   "execution_count": 33,
   "metadata": {},
   "outputs": [
    {
     "name": "stdout",
     "output_type": "stream",
     "text": [
      "Colonnes disponibles : ['country', 'year', 'iso_code', 'population', 'gdp', 'cement_co2', 'cement_co2_per_capita', 'co2', 'co2_growth_abs', 'co2_growth_prct', 'co2_including_luc', 'co2_including_luc_growth_abs', 'co2_including_luc_growth_prct', 'co2_including_luc_per_capita', 'co2_including_luc_per_gdp', 'co2_including_luc_per_unit_energy', 'co2_per_capita', 'co2_per_gdp', 'co2_per_unit_energy', 'coal_co2', 'coal_co2_per_capita', 'consumption_co2', 'consumption_co2_per_capita', 'consumption_co2_per_gdp', 'cumulative_cement_co2', 'cumulative_co2', 'cumulative_co2_including_luc', 'cumulative_coal_co2', 'cumulative_flaring_co2', 'cumulative_gas_co2', 'cumulative_luc_co2', 'cumulative_oil_co2', 'cumulative_other_co2', 'energy_per_capita', 'energy_per_gdp', 'flaring_co2', 'flaring_co2_per_capita', 'gas_co2', 'gas_co2_per_capita', 'ghg_excluding_lucf_per_capita', 'ghg_per_capita', 'land_use_change_co2', 'land_use_change_co2_per_capita', 'methane', 'methane_per_capita', 'nitrous_oxide', 'nitrous_oxide_per_capita', 'oil_co2', 'oil_co2_per_capita', 'other_co2_per_capita', 'other_industry_co2', 'primary_energy_consumption', 'share_global_cement_co2', 'share_global_co2', 'share_global_co2_including_luc', 'share_global_coal_co2', 'share_global_cumulative_cement_co2', 'share_global_cumulative_co2', 'share_global_cumulative_co2_including_luc', 'share_global_cumulative_coal_co2', 'share_global_cumulative_flaring_co2', 'share_global_cumulative_gas_co2', 'share_global_cumulative_luc_co2', 'share_global_cumulative_oil_co2', 'share_global_cumulative_other_co2', 'share_global_flaring_co2', 'share_global_gas_co2', 'share_global_luc_co2', 'share_global_oil_co2', 'share_global_other_co2', 'share_of_temperature_change_from_ghg', 'temperature_change_from_ch4', 'temperature_change_from_co2', 'temperature_change_from_ghg', 'temperature_change_from_n2o', 'total_ghg', 'total_ghg_excluding_lucf', 'trade_co2', 'trade_co2_share']\n"
     ]
    }
   ],
   "source": [
    "# === 📂 2. Chargement des données ===\n",
    "df = pd.read_csv(\"/Users/yoavcohen/Desktop/Memoire_DU_SDA/Mémoire/Data/owid-co2-data.csv\")\n",
    "print(\"Colonnes disponibles :\", df.columns.tolist())\n"
   ]
  },
  {
   "cell_type": "code",
   "execution_count": 44,
   "metadata": {},
   "outputs": [],
   "source": [
    "# Variables à garder (excluant population, gdp brut, year, country, iso_code)\n",
    "selected_vars = [\n",
    "    'co2_per_capita', 'energy_per_capita', 'cement_co2_per_capita', 'gas_co2_per_capita',\n",
    "    'oil_co2_per_capita', 'other_co2_per_capita', 'methane_per_capita', 'nitrous_oxide_per_capita',\n",
    "    'ghg_per_capita', 'land_use_change_co2_per_capita', 'co2_per_gdp', 'energy_per_gdp',\n",
    "    'co2_including_luc_per_gdp', 'total_ghg', 'cement_co2', 'coal_co2', 'gas_co2', 'oil_co2',\n",
    "    'other_industry_co2', 'primary_energy_consumption', 'temperature_change_from_ghg', 'trade_co2',\n",
    "     'energy_per_gdp', 'co2_growth_abs', 'share_global_cumulative_co2','trade_co2_share'\n",
    "]\n",
    "\n",
    "# Nettoyage : on garde ces colonnes + 'gdp' + 'population' (pour calcul PIB/hab)\n",
    "df_world_sel = df[selected_vars + ['gdp', 'population']].dropna()\n",
    "\n",
    "# Calcul PIB par habitant target\n",
    "df_world_sel['gdp_per_capita'] = df_world_sel['gdp'] / df_world_sel['population']\n",
    "\n",
    "# On enlève colonnes non nécessaires\n",
    "df_world_sel.drop(columns=['gdp', 'population'], inplace=True)"
   ]
  },
  {
   "cell_type": "code",
   "execution_count": 45,
   "metadata": {},
   "outputs": [
    {
     "name": "stdout",
     "output_type": "stream",
     "text": [
      "\n",
      "=== Modèle 3 : GDP par habitant ~ population + énergie primaire + méthane per capita + changement température GES ===\n",
      "                            OLS Regression Results                            \n",
      "==============================================================================\n",
      "Dep. Variable:         co2_per_capita   R-squared:                       0.415\n",
      "Model:                            OLS   Adj. R-squared:                  0.413\n",
      "Method:                 Least Squares   F-statistic:                     200.4\n",
      "Date:                Wed, 06 Aug 2025   Prob (F-statistic):          1.64e-161\n",
      "Time:                        20:44:54   Log-Likelihood:                -3716.5\n",
      "No. Observations:                1416   AIC:                             7445.\n",
      "Df Residuals:                    1410   BIC:                             7477.\n",
      "Df Model:                           5                                         \n",
      "Covariance Type:            nonrobust                                         \n",
      "==============================================================================================\n",
      "                                 coef    std err          t      P>|t|      [0.025      0.975]\n",
      "----------------------------------------------------------------------------------------------\n",
      "const                         -1.3455      0.343     -3.924      0.000      -2.018      -0.673\n",
      "primary_energy_consumption  2.108e-05   6.41e-06      3.287      0.001     8.5e-06    3.37e-05\n",
      "methane_per_capita             0.4657      0.055      8.505      0.000       0.358       0.573\n",
      "gdp_per_capita                 0.0002   7.57e-06     22.809      0.000       0.000       0.000\n",
      "energy_per_gdp                 1.1406      0.054     20.962      0.000       1.034       1.247\n",
      "energy_per_gdp                 1.1406      0.054     20.962      0.000       1.034       1.247\n",
      "trade_co2                      0.0015      0.001      2.587      0.010       0.000       0.003\n",
      "==============================================================================\n",
      "Omnibus:                      231.275   Durbin-Watson:                   0.109\n",
      "Prob(Omnibus):                  0.000   Jarque-Bera (JB):             1097.743\n",
      "Skew:                           0.685   Prob(JB):                    4.25e-239\n",
      "Kurtosis:                       7.090   Cond. No.                     2.93e+19\n",
      "==============================================================================\n",
      "\n",
      "Notes:\n",
      "[1] Standard Errors assume that the covariance matrix of the errors is correctly specified.\n",
      "[2] The smallest eigenvalue is 1.6e-27. This might indicate that there are\n",
      "strong multicollinearity problems or that the design matrix is singular.\n"
     ]
    }
   ],
   "source": [
    "# Modèle 3 : gdp_per_capita ~ population + primary_energy_consumption + methane_per_capita + temperature_change_from_ghg\n",
    "X3 = df_world_sel[[\"primary_energy_consumption\", \"methane_per_capita\", \"gdp_per_capita\", 'energy_per_gdp', 'trade_co2']]\n",
    "X3 = sm.add_constant(X3)\n",
    "y3 = df_world_sel[\"co2_per_capita\"]\n",
    "\n",
    "model3 = sm.OLS(y3, X3).fit()\n",
    "print(\"\\n=== Modèle 3 : GDP par habitant ~ population + énergie primaire + méthane per capita + changement température GES ===\")\n",
    "print(model3.summary())\n",
    "\n"
   ]
  },
  {
   "cell_type": "code",
   "execution_count": 46,
   "metadata": {},
   "outputs": [
    {
     "name": "stdout",
     "output_type": "stream",
     "text": [
      "\n",
      "=== Modèle 3 : GDP par habitant ~ population + énergie primaire + méthane per capita + changement température GES ===\n",
      "                            OLS Regression Results                            \n",
      "==============================================================================\n",
      "Dep. Variable:         co2_growth_abs   R-squared:                       0.113\n",
      "Model:                            OLS   Adj. R-squared:                  0.111\n",
      "Method:                 Least Squares   F-statistic:                     59.99\n",
      "Date:                Wed, 06 Aug 2025   Prob (F-statistic):           1.67e-36\n",
      "Time:                        20:44:57   Log-Likelihood:                -8636.3\n",
      "No. Observations:                1416   AIC:                         1.728e+04\n",
      "Df Residuals:                    1412   BIC:                         1.730e+04\n",
      "Df Model:                           3                                         \n",
      "Covariance Type:            nonrobust                                         \n",
      "===============================================================================================\n",
      "                                  coef    std err          t      P>|t|      [0.025      0.975]\n",
      "-----------------------------------------------------------------------------------------------\n",
      "const                          19.2221      6.296      3.053      0.002       6.871      31.573\n",
      "gdp_per_capita                 -0.0008      0.000     -3.765      0.000      -0.001      -0.000\n",
      "trade_co2_share                 0.0261      0.059      0.443      0.658      -0.089       0.142\n",
      "share_global_cumulative_co2     3.7898      0.296     12.799      0.000       3.209       4.371\n",
      "==============================================================================\n",
      "Omnibus:                     1343.101   Durbin-Watson:                   2.023\n",
      "Prob(Omnibus):                  0.000   Jarque-Bera (JB):          2773981.297\n",
      "Skew:                          -3.139   Prob(JB):                         0.00\n",
      "Kurtosis:                     219.742   Cond. No.                     6.82e+04\n",
      "==============================================================================\n",
      "\n",
      "Notes:\n",
      "[1] Standard Errors assume that the covariance matrix of the errors is correctly specified.\n",
      "[2] The condition number is large, 6.82e+04. This might indicate that there are\n",
      "strong multicollinearity or other numerical problems.\n"
     ]
    }
   ],
   "source": [
    "# Modèle 3 : gdp_per_capita ~ population + primary_energy_consumption + methane_per_capita + temperature_change_from_ghg\n",
    "X3 = df_world_sel[[\"gdp_per_capita\", 'trade_co2_share', 'share_global_cumulative_co2']]\n",
    "X3 = sm.add_constant(X3)\n",
    "y3 = df_world_sel[\"co2_growth_abs\"]\n",
    "\n",
    "model3 = sm.OLS(y3, X3).fit()\n",
    "print(\"\\n=== Modèle 3 : GDP par habitant ~ population + énergie primaire + méthane per capita + changement température GES ===\")\n",
    "print(model3.summary())\n"
   ]
  }
 ],
 "metadata": {
  "kernelspec": {
   "display_name": "MemoireM1",
   "language": "python",
   "name": "python3"
  },
  "language_info": {
   "codemirror_mode": {
    "name": "ipython",
    "version": 3
   },
   "file_extension": ".py",
   "mimetype": "text/x-python",
   "name": "python",
   "nbconvert_exporter": "python",
   "pygments_lexer": "ipython3",
   "version": "3.11.13"
  }
 },
 "nbformat": 4,
 "nbformat_minor": 2
}
