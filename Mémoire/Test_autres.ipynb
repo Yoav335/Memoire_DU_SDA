{
 "cells": [
  {
   "cell_type": "markdown",
   "metadata": {
    "vscode": {
     "languageId": "ruby"
    }
   },
   "source": [
    "Colonnes disponibles : ['country', 'year', 'iso_code', 'population', 'gdp', 'cement_co2', 'cement_co2_per_capita', 'co2', 'co2_growth_abs', 'co2_growth_prct', 'co2_including_luc', 'co2_including_luc_growth_abs', 'co2_including_luc_growth_prct', 'co2_including_luc_per_capita', 'co2_including_luc_per_gdp', 'co2_including_luc_per_unit_energy', 'co2_per_capita', 'co2_per_gdp', 'co2_per_unit_energy', 'coal_co2', 'coal_co2_per_capita', 'consumption_co2', 'consumption_co2_per_capita', 'consumption_co2_per_gdp', 'cumulative_cement_co2', 'cumulative_co2', 'cumulative_co2_including_luc', 'cumulative_coal_co2', 'cumulative_flaring_co2', 'cumulative_gas_co2', 'cumulative_luc_co2', 'cumulative_oil_co2', 'cumulative_other_co2', 'energy_per_capita', 'energy_per_gdp', 'flaring_co2', 'flaring_co2_per_capita', 'gas_co2', 'gas_co2_per_capita', 'ghg_excluding_lucf_per_capita', 'ghg_per_capita', 'land_use_change_co2', 'land_use_change_co2_per_capita', 'methane', 'methane_per_capita', 'nitrous_oxide', 'nitrous_oxide_per_capita', 'oil_co2', 'oil_co2_per_capita', 'other_co2_per_capita', 'other_industry_co2', 'primary_energy_consumption', 'share_global_cement_co2', 'share_global_co2', 'share_global_co2_including_luc', 'share_global_coal_co2', 'share_global_cumulative_cement_co2', 'share_global_cumulative_co2', 'share_global_cumulative_co2_including_luc', 'share_global_cumulative_coal_co2', 'share_global_cumulative_flaring_co2', 'share_global_cumulative_gas_co2', 'share_global_cumulative_luc_co2', 'share_global_cumulative_oil_co2', 'share_global_cumulative_other_co2', 'share_global_flaring_co2', 'share_global_gas_co2', 'share_global_luc_co2', 'share_global_oil_co2', 'share_global_other_co2', 'share_of_temperature_change_from_ghg', 'temperature_change_from_ch4', 'temperature_change_from_co2', 'temperature_change_from_ghg', 'temperature_change_from_n2o', 'total_ghg', 'total_ghg_excluding_lucf', 'trade_co2', 'trade_co2_share']\n"
   ]
  },
  {
   "cell_type": "code",
   "execution_count": 1,
   "metadata": {},
   "outputs": [],
   "source": [
    "import pandas as pd\n",
    "import numpy as np\n",
    "import statsmodels.api as sm\n",
    "from statsmodels.tsa.stattools import adfuller, grangercausalitytests\n",
    "import matplotlib.pyplot as plt\n",
    "import seaborn as sns\n",
    "from statsmodels.stats.outliers_influence import variance_inflation_factor\n",
    "from statsmodels.stats.diagnostic import het_breuschpagan\n",
    "from scipy.stats import shapiro"
   ]
  },
  {
   "cell_type": "code",
   "execution_count": 2,
   "metadata": {},
   "outputs": [
    {
     "name": "stdout",
     "output_type": "stream",
     "text": [
      "Colonnes disponibles : ['country', 'year', 'iso_code', 'population', 'gdp', 'cement_co2', 'cement_co2_per_capita', 'co2', 'co2_growth_abs', 'co2_growth_prct', 'co2_including_luc', 'co2_including_luc_growth_abs', 'co2_including_luc_growth_prct', 'co2_including_luc_per_capita', 'co2_including_luc_per_gdp', 'co2_including_luc_per_unit_energy', 'co2_per_capita', 'co2_per_gdp', 'co2_per_unit_energy', 'coal_co2', 'coal_co2_per_capita', 'consumption_co2', 'consumption_co2_per_capita', 'consumption_co2_per_gdp', 'cumulative_cement_co2', 'cumulative_co2', 'cumulative_co2_including_luc', 'cumulative_coal_co2', 'cumulative_flaring_co2', 'cumulative_gas_co2', 'cumulative_luc_co2', 'cumulative_oil_co2', 'cumulative_other_co2', 'energy_per_capita', 'energy_per_gdp', 'flaring_co2', 'flaring_co2_per_capita', 'gas_co2', 'gas_co2_per_capita', 'ghg_excluding_lucf_per_capita', 'ghg_per_capita', 'land_use_change_co2', 'land_use_change_co2_per_capita', 'methane', 'methane_per_capita', 'nitrous_oxide', 'nitrous_oxide_per_capita', 'oil_co2', 'oil_co2_per_capita', 'other_co2_per_capita', 'other_industry_co2', 'primary_energy_consumption', 'share_global_cement_co2', 'share_global_co2', 'share_global_co2_including_luc', 'share_global_coal_co2', 'share_global_cumulative_cement_co2', 'share_global_cumulative_co2', 'share_global_cumulative_co2_including_luc', 'share_global_cumulative_coal_co2', 'share_global_cumulative_flaring_co2', 'share_global_cumulative_gas_co2', 'share_global_cumulative_luc_co2', 'share_global_cumulative_oil_co2', 'share_global_cumulative_other_co2', 'share_global_flaring_co2', 'share_global_gas_co2', 'share_global_luc_co2', 'share_global_oil_co2', 'share_global_other_co2', 'share_of_temperature_change_from_ghg', 'temperature_change_from_ch4', 'temperature_change_from_co2', 'temperature_change_from_ghg', 'temperature_change_from_n2o', 'total_ghg', 'total_ghg_excluding_lucf', 'trade_co2', 'trade_co2_share']\n"
     ]
    }
   ],
   "source": [
    "# === 📂 2. Chargement des données ===\n",
    "df = pd.read_csv(\"/Users/yoavcohen/Desktop/Memoire_DU_SDA/Mémoire/Data/owid-co2-data.csv\")\n",
    "print(\"Colonnes disponibles :\", df.columns.tolist())\n"
   ]
  },
  {
   "cell_type": "code",
   "execution_count": 5,
   "metadata": {},
   "outputs": [],
   "source": [
    "# Variables à garder (excluant population, gdp brut, year, country, iso_code)\n",
    "selected_vars = ['country', 'year', 'iso_code', 'population', 'gdp', 'cement_co2', \n",
    "                 'cement_co2_per_capita', 'co2', 'co2_growth_abs', 'co2_growth_prct', \n",
    "                 'co2_including_luc', 'co2_including_luc_growth_abs', 'co2_including_luc_growth_prct', \n",
    "                 'co2_including_luc_per_capita', 'co2_including_luc_per_gdp', 'co2_including_luc_per_unit_energy', \n",
    "                 'co2_per_capita', 'co2_per_gdp', 'co2_per_unit_energy', 'coal_co2', 'coal_co2_per_capita', 'consumption_co2', \n",
    "                 'consumption_co2_per_capita', 'consumption_co2_per_gdp', 'cumulative_cement_co2', 'cumulative_co2', \n",
    "                 'cumulative_co2_including_luc', 'cumulative_coal_co2', 'cumulative_flaring_co2', 'cumulative_gas_co2', \n",
    "                 'cumulative_luc_co2', 'cumulative_oil_co2', 'cumulative_other_co2', 'energy_per_capita', 'energy_per_gdp',\n",
    "                 'flaring_co2', 'flaring_co2_per_capita', 'gas_co2', 'gas_co2_per_capita', 'ghg_excluding_lucf_per_capita', \n",
    "                 'ghg_per_capita', 'land_use_change_co2', 'land_use_change_co2_per_capita', 'methane', 'methane_per_capita', \n",
    "                 'nitrous_oxide', 'nitrous_oxide_per_capita', 'oil_co2', 'oil_co2_per_capita', 'other_co2_per_capita', \n",
    "                 'other_industry_co2', 'primary_energy_consumption', 'share_global_cement_co2', 'share_global_co2',\n",
    "                 'share_global_co2_including_luc', 'share_global_coal_co2', 'share_global_cumulative_cement_co2', \n",
    "                 'share_global_cumulative_co2', 'share_global_cumulative_co2_including_luc', 'share_global_cumulative_coal_co2',\n",
    "                 'share_global_cumulative_flaring_co2', 'share_global_cumulative_gas_co2', 'share_global_cumulative_luc_co2',\n",
    "                 'share_global_cumulative_oil_co2', 'share_global_cumulative_other_co2', 'share_global_flaring_co2', \n",
    "                 'share_global_gas_co2', 'share_global_luc_co2', 'share_global_oil_co2', 'share_global_other_co2', \n",
    "                 'share_of_temperature_change_from_ghg', 'temperature_change_from_ch4', 'temperature_change_from_co2',\n",
    "                 'temperature_change_from_ghg', 'temperature_change_from_n2o', 'total_ghg', 'total_ghg_excluding_lucf', \n",
    "                 'trade_co2', 'trade_co2_share']\n",
    "\n",
    "# Nettoyage : on garde ces colonnes + 'gdp' + 'population' (pour calcul PIB/hab)\n",
    "df_world_sel = df[selected_vars].dropna()\n",
    "\n",
    "# Calcul PIB par habitant target\n",
    "df_world_sel['gdp_per_capita'] = df_world_sel['gdp'] / df_world_sel['population']\n",
    "\n",
    "# On enlève colonnes non nécessaires\n",
    "#df_world_sel.drop(columns=['gdp', 'population'], inplace=True)"
   ]
  },
  {
   "cell_type": "code",
   "execution_count": 21,
   "metadata": {},
   "outputs": [
    {
     "name": "stdout",
     "output_type": "stream",
     "text": [
      "                   country  year iso_code  population  gdp  cement_co2  \\\n",
      "16189  European Union (28)  1750      NaN         NaN  NaN       0.000   \n",
      "16190  European Union (28)  1751      NaN         NaN  NaN       0.000   \n",
      "16191  European Union (28)  1752      NaN         NaN  NaN       0.000   \n",
      "16192  European Union (28)  1753      NaN         NaN  NaN       0.000   \n",
      "16193  European Union (28)  1754      NaN         NaN  NaN       0.000   \n",
      "...                    ...   ...      ...         ...  ...         ...   \n",
      "16458  European Union (28)  2019      NaN         NaN  NaN      78.005   \n",
      "16459  European Union (28)  2020      NaN         NaN  NaN      74.308   \n",
      "16460  European Union (28)  2021      NaN         NaN  NaN      76.631   \n",
      "16461  European Union (28)  2022      NaN         NaN  NaN      73.585   \n",
      "16462  European Union (28)  2023      NaN         NaN  NaN      71.269   \n",
      "\n",
      "       cement_co2_per_capita       co2  co2_growth_abs  co2_growth_prct  ...  \\\n",
      "16189                  0.000     9.306             NaN              NaN  ...   \n",
      "16190                    NaN     9.407           0.101            1.088  ...   \n",
      "16191                    NaN     9.505           0.098            1.041  ...   \n",
      "16192                    NaN     9.610           0.105            1.108  ...   \n",
      "16193                    NaN     9.734           0.123            1.281  ...   \n",
      "...                      ...       ...             ...              ...  ...   \n",
      "16458                  0.152  3269.461        -160.137           -4.669  ...   \n",
      "16459                  0.144  2953.655        -315.806           -9.659  ...   \n",
      "16460                  0.149  3145.654         191.999            6.500  ...   \n",
      "16461                  0.142  3053.913         -91.742           -2.916  ...   \n",
      "16462                  0.137  2815.768        -238.144           -7.798  ...   \n",
      "\n",
      "       share_of_temperature_change_from_ghg  temperature_change_from_ch4  \\\n",
      "16189                                   NaN                          NaN   \n",
      "16190                                   NaN                          NaN   \n",
      "16191                                   NaN                          NaN   \n",
      "16192                                   NaN                          NaN   \n",
      "16193                                   NaN                          NaN   \n",
      "...                                     ...                          ...   \n",
      "16458                                13.209                        0.026   \n",
      "16459                                13.084                        0.026   \n",
      "16460                                12.960                        0.025   \n",
      "16461                                12.834                        0.025   \n",
      "16462                                12.707                        0.025   \n",
      "\n",
      "       temperature_change_from_co2  temperature_change_from_ghg  \\\n",
      "16189                          NaN                          NaN   \n",
      "16190                          NaN                          NaN   \n",
      "16191                          NaN                          NaN   \n",
      "16192                          NaN                          NaN   \n",
      "16193                          NaN                          NaN   \n",
      "...                            ...                          ...   \n",
      "16458                        0.168                        0.208   \n",
      "16459                        0.170                        0.209   \n",
      "16460                        0.171                        0.210   \n",
      "16461                        0.172                        0.211   \n",
      "16462                        0.174                        0.212   \n",
      "\n",
      "       temperature_change_from_n2o  total_ghg  total_ghg_excluding_lucf  \\\n",
      "16189                          NaN        NaN                       NaN   \n",
      "16190                          NaN        NaN                       NaN   \n",
      "16191                          NaN        NaN                       NaN   \n",
      "16192                          NaN        NaN                       NaN   \n",
      "16193                          NaN        NaN                       NaN   \n",
      "...                            ...        ...                       ...   \n",
      "16458                        0.013   3999.166                  3637.708   \n",
      "16459                        0.013   3657.216                  3308.106   \n",
      "16460                        0.013   3852.684                  3503.568   \n",
      "16461                        0.013   3743.638                  3404.953   \n",
      "16462                        0.014   3497.411                  3158.793   \n",
      "\n",
      "       trade_co2  trade_co2_share  gdp_per_capita  \n",
      "16189        NaN              NaN             NaN  \n",
      "16190        NaN              NaN             NaN  \n",
      "16191        NaN              NaN             NaN  \n",
      "16192        NaN              NaN             NaN  \n",
      "16193        NaN              NaN             NaN  \n",
      "...          ...              ...             ...  \n",
      "16458    771.983           23.612             NaN  \n",
      "16459    705.137           23.873             NaN  \n",
      "16460    848.167           26.963             NaN  \n",
      "16461    903.890           29.598             NaN  \n",
      "16462        NaN              NaN             NaN  \n",
      "\n",
      "[274 rows x 80 columns]\n"
     ]
    }
   ],
   "source": [
    "df_pays_selectionné = df[df[\"country\"] == \"European Union (28)\"].copy()\n",
    "\n",
    "df_pays_selectionné['gdp_per_capita'] = df_pays_selectionné['gdp'] / df_pays_selectionné['population']\n",
    "\n",
    "\n",
    "print(df_pays_selectionné)"
   ]
  },
  {
   "cell_type": "code",
   "execution_count": 22,
   "metadata": {},
   "outputs": [
    {
     "name": "stdout",
     "output_type": "stream",
     "text": [
      "\n",
      "=== Modèle 1 : GDP par habitant ~ population + énergie primaire + méthane per capita + changement température GES ===\n",
      "                            OLS Regression Results                            \n",
      "==============================================================================\n",
      "Dep. Variable:         co2_per_capita   R-squared:                       0.453\n",
      "Model:                            OLS   Adj. R-squared:                  0.451\n",
      "Method:                 Least Squares   F-statistic:                     231.3\n",
      "Date:                Tue, 19 Aug 2025   Prob (F-statistic):          5.27e-180\n",
      "Time:                        13:51:02   Log-Likelihood:                -3632.5\n",
      "No. Observations:                1401   AIC:                             7277.\n",
      "Df Residuals:                    1395   BIC:                             7308.\n",
      "Df Model:                           5                                         \n",
      "Covariance Type:            nonrobust                                         \n",
      "==============================================================================================\n",
      "                                 coef    std err          t      P>|t|      [0.025      0.975]\n",
      "----------------------------------------------------------------------------------------------\n",
      "const                         -1.1192      0.333     -3.357      0.001      -1.773      -0.465\n",
      "primary_energy_consumption     0.0002   1.74e-05     10.896      0.000       0.000       0.000\n",
      "methane_per_capita             0.5217      0.053      9.784      0.000       0.417       0.626\n",
      "gdp_per_capita                 0.0002   7.57e-06     20.298      0.000       0.000       0.000\n",
      "energy_per_gdp                 2.1863      0.106     20.659      0.000       1.979       2.394\n",
      "trade_co2                      0.0039      0.001      6.547      0.000       0.003       0.005\n",
      "==============================================================================\n",
      "Omnibus:                      339.781   Durbin-Watson:                   0.109\n",
      "Prob(Omnibus):                  0.000   Jarque-Bera (JB):             1936.391\n",
      "Skew:                           1.002   Prob(JB):                         0.00\n",
      "Kurtosis:                       8.399   Cond. No.                     1.24e+05\n",
      "==============================================================================\n",
      "\n",
      "Notes:\n",
      "[1] Standard Errors assume that the covariance matrix of the errors is correctly specified.\n",
      "[2] The condition number is large, 1.24e+05. This might indicate that there are\n",
      "strong multicollinearity or other numerical problems.\n"
     ]
    }
   ],
   "source": [
    "# Modèle 3 : gdp_per_capita ~ population + primary_energy_consumption + methane_per_capita + temperature_change_from_ghg\n",
    "X1 = df_world_sel[[\"primary_energy_consumption\", \"methane_per_capita\", \"gdp_per_capita\", 'energy_per_gdp', 'trade_co2']]\n",
    "X1 = sm.add_constant(X1)\n",
    "y1 = df_world_sel[\"co2_per_capita\"]\n",
    "\n",
    "model1 = sm.OLS(y1, X1).fit()\n",
    "print(\"\\n=== Modèle 1 : GDP par habitant ~ population + énergie primaire + méthane per capita + changement température GES ===\")\n",
    "print(model1.summary())\n",
    "\n",
    "\n"
   ]
  }
 ],
 "metadata": {
  "kernelspec": {
   "display_name": "MemoireM1",
   "language": "python",
   "name": "python3"
  },
  "language_info": {
   "codemirror_mode": {
    "name": "ipython",
    "version": 3
   },
   "file_extension": ".py",
   "mimetype": "text/x-python",
   "name": "python",
   "nbconvert_exporter": "python",
   "pygments_lexer": "ipython3",
   "version": "3.11.13"
  }
 },
 "nbformat": 4,
 "nbformat_minor": 2
}
